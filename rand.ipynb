{
 "cells": [
  {
   "cell_type": "code",
   "execution_count": 151,
   "metadata": {},
   "outputs": [],
   "source": [
    "import numpy as np"
   ]
  },
  {
   "cell_type": "code",
   "execution_count": 152,
   "metadata": {},
   "outputs": [
    {
     "name": "stdout",
     "output_type": "stream",
     "text": [
      "[[ 1  2  0 -1]\n",
      " [ 0  2  0  1]\n",
      " [ 0  6  0  1]\n",
      " [ 5  2  3  0]]\n"
     ]
    }
   ],
   "source": [
    "# Generate a random 2D array of 3x3\n",
    "# a = np.random.randint(0, 10, (4, 4))\n",
    "a = np.array([\n",
    "    [1, 2, 0, -1],\n",
    "    [0, 2, 0, 1],\n",
    "    [0, 6, 0, 1],\n",
    "    [5, 2, 3, 0]\n",
    "])\n",
    "print(a)    "
   ]
  },
  {
   "cell_type": "code",
   "execution_count": 153,
   "metadata": {},
   "outputs": [
    {
     "name": "stdout",
     "output_type": "stream",
     "text": [
      "[[ 22. +0.j   3.-11.j  -4. +0.j   3.+11.j]\n",
      " [ -5. +7.j   2. +4.j   7. +9.j   0. +0.j]\n",
      " [ -4. +0.j  -1. -5.j -10. +0.j  -1. +5.j]\n",
      " [ -5. -7.j   0. +0.j   7. -9.j   2. -4.j]]\n"
     ]
    }
   ],
   "source": [
    "# take the DFT of the array\n",
    "b = np.fft.fft2(a)\n",
    "print(b)"
   ]
  },
  {
   "cell_type": "code",
   "execution_count": 154,
   "metadata": {},
   "outputs": [
    {
     "name": "stdout",
     "output_type": "stream",
     "text": [
      "[[ 22. +0.j   3.-11.j  -4. +0.j   3.+11.j]\n",
      " [ -5. +7.j   2. +4.j   7. +9.j   0. +0.j]\n",
      " [ -4. +0.j  -1. -5.j -10. +0.j  -1. +5.j]\n",
      " [ -5. -7.j   0. +0.j   7. -9.j   2. -4.j]]\n"
     ]
    }
   ],
   "source": [
    "c = np.array([\n",
    "    [1, 1, 1, 1],\n",
    "    [1, -1j, -1, 1j],\n",
    "    [1, -1, 1, -1],\n",
    "    [1, 1j, -1, -1j]\n",
    "])\n",
    "d = c @ a @ c\n",
    "print(d)"
   ]
  },
  {
   "cell_type": "code",
   "execution_count": 155,
   "metadata": {},
   "outputs": [
    {
     "name": "stdout",
     "output_type": "stream",
     "text": [
      "[[ 1.          1.          1.          1.        ]\n",
      " [ 1.30656296  0.5411961  -0.5411961  -1.30656296]\n",
      " [ 1.         -1.         -1.          1.        ]\n",
      " [ 0.5411961  -1.30656296  1.30656296 -0.5411961 ]]\n"
     ]
    }
   ],
   "source": [
    "# Generate DCT matrix given size\n",
    "def DCT(size):\n",
    "    matrix = np.zeros((size, size))\n",
    "    for k in range(size):\n",
    "        for n in range(size):\n",
    "            a = np.sqrt(1/size) if k == 0 else np.sqrt(2/size)\n",
    "            matrix[k, n] = (a * np.cos((np.pi*k/(2*size)) * (2*n + 1))) * (1/np.sqrt(size))*size\n",
    "\n",
    "    return np.round(matrix, 15)\n",
    "print(DCT(4)) "
   ]
  },
  {
   "cell_type": "code",
   "execution_count": 156,
   "metadata": {},
   "outputs": [
    {
     "data": {
      "text/plain": [
       "2.82842712474619"
      ]
     },
     "execution_count": 156,
     "metadata": {},
     "output_type": "execute_result"
    }
   ],
   "source": [
    "(1/np.sqrt(2/4) * np.cos((np.pi*0/(2*4)) * (2*0 + 1))) * (1/np.sqrt(4))*4"
   ]
  },
  {
   "cell_type": "code",
   "execution_count": 157,
   "metadata": {},
   "outputs": [
    {
     "name": "stdout",
     "output_type": "stream",
     "text": [
      "[[12. +0.j         -1.5-2.59807621j -1.5+2.59807621j]\n",
      " [ 0. +0.j          0. +0.j          0. +0.j        ]\n",
      " [ 0. +0.j          0. +0.j          0. +0.j        ]]\n"
     ]
    }
   ],
   "source": [
    "# take the dft of \n",
    "a = np.array([\n",
    "    [1, 2, 1],\n",
    "    [1, 2, 1],\n",
    "    [1, 2, 1]\n",
    "])\n",
    "b = np.fft.fft2(a)\n",
    "print(b)\n"
   ]
  },
  {
   "cell_type": "code",
   "execution_count": 158,
   "metadata": {},
   "outputs": [
    {
     "data": {
      "text/plain": [
       "array([[1.33333333+0.j, 1.33333333+0.j, 1.33333333+0.j],\n",
       "       [1.33333333+0.j, 1.33333333+0.j, 1.33333333+0.j],\n",
       "       [1.33333333+0.j, 1.33333333+0.j, 1.33333333+0.j]])"
      ]
     },
     "execution_count": 158,
     "metadata": {},
     "output_type": "execute_result"
    }
   ],
   "source": [
    "np.fft.ifft2(np.fft.fft2((1/9)*np.ones((3,3))) * b)"
   ]
  },
  {
   "cell_type": "code",
   "execution_count": 159,
   "metadata": {},
   "outputs": [
    {
     "name": "stdout",
     "output_type": "stream",
     "text": [
      "[[12.+0.j 12.+0.j 12.+0.j]\n",
      " [ 0.+0.j -0.+0.j -0.+0.j]\n",
      " [ 0.+0.j -0.+0.j -0.+0.j]]\n"
     ]
    }
   ],
   "source": [
    "# np.fft.fft2((1/9)*np.ones((3,3))) * b\n",
    "c = np.array([\n",
    "    [1, 1, 1],\n",
    "    [1, (-1/2) - 1j*(np.sqrt(3)/2), (-1/2) + 1j*(np.sqrt(3)/2)],\n",
    "    [1, (-1/2) + 1j*(np.sqrt(3)/2), (-1/2) - 1j*(np.sqrt(3)/2)]\n",
    "])\n",
    "d = (np.fft.fft2((1/9)*np.ones((3,3))) * b) @ c\n",
    "print(d)"
   ]
  },
  {
   "cell_type": "code",
   "execution_count": 160,
   "metadata": {},
   "outputs": [
    {
     "name": "stdout",
     "output_type": "stream",
     "text": [
      "[[12.+0.j 12.+0.j 12.+0.j]\n",
      " [ 0.+0.j -0.+0.j -0.+0.j]\n",
      " [ 0.+0.j -0.+0.j -0.+0.j]]\n"
     ]
    }
   ],
   "source": [
    "# np.fft.fft2((1/9)*np.ones((3,3))) * b\n",
    "c = np.array([\n",
    "    [1, 1, 1],\n",
    "    [1, (-1/2), (-1/2)],\n",
    "    [1, (-1/2), (-1/2)]\n",
    "])\n",
    "d = (np.fft.fft2((1/9)*np.ones((3,3))) * b) @ c\n",
    "print(d)"
   ]
  },
  {
   "cell_type": "code",
   "execution_count": 161,
   "metadata": {},
   "outputs": [
    {
     "name": "stdout",
     "output_type": "stream",
     "text": [
      "[[4.+0.j 0.+0.j]\n",
      " [4.+0.j 0.+0.j]]\n"
     ]
    }
   ],
   "source": [
    "a = np.array([\n",
    "    [2, 2],\n",
    "    [0, 0]\n",
    "])\n",
    "b = np.fft.fft2(a)\n",
    "print(b)"
   ]
  },
  {
   "cell_type": "code",
   "execution_count": 162,
   "metadata": {},
   "outputs": [
    {
     "name": "stdout",
     "output_type": "stream",
     "text": [
      "[[16. +0.00000000e+00j -2. -3.46410162e+00j -2. +3.46410162e+00j]\n",
      " [-2. -3.46410162e+00j -0.5+8.66025404e-01j  1. -1.11022302e-16j]\n",
      " [-2. +3.46410162e+00j  1. +1.11022302e-16j -0.5-8.66025404e-01j]]\n"
     ]
    }
   ],
   "source": [
    "a = np.array([\n",
    "    [1, 2, 1],\n",
    "    [2, 4, 2],\n",
    "    [1, 2, 1]\n",
    "])\n",
    "b = np.fft.fft2(a)\n",
    "print(b)\n"
   ]
  },
  {
   "cell_type": "code",
   "execution_count": 163,
   "metadata": {},
   "outputs": [
    {
     "data": {
      "text/plain": [
       "array([[ 4.00000000e+00,  2.22044605e-16,  0.00000000e+00,\n",
       "        -1.11022302e-15],\n",
       "       [ 2.22044605e-16,  4.00000000e+00,  0.00000000e+00,\n",
       "        -5.68615185e-16],\n",
       "       [ 0.00000000e+00,  0.00000000e+00,  4.00000000e+00,\n",
       "         9.99200722e-16],\n",
       "       [-1.11022302e-15, -5.68615185e-16,  9.99200722e-16,\n",
       "         4.00000000e+00]])"
      ]
     },
     "execution_count": 163,
     "metadata": {},
     "output_type": "execute_result"
    }
   ],
   "source": [
    "DCT(4) @ DCT(4).T"
   ]
  },
  {
   "cell_type": "code",
   "execution_count": 164,
   "metadata": {},
   "outputs": [
    {
     "data": {
      "text/plain": [
       "array([[ 1.-0.j, -1.+0.j,  1.-0.j, -1.+0.j],\n",
       "       [-1.+0.j,  1.-0.j, -1.+0.j,  1.-0.j],\n",
       "       [ 1.-0.j, -1.+0.j,  1.-0.j, -1.+0.j],\n",
       "       [-1.+0.j,  1.-0.j, -1.+0.j,  1.-0.j]])"
      ]
     },
     "execution_count": 164,
     "metadata": {},
     "output_type": "execute_result"
    }
   ],
   "source": [
    "# Create DFT matricies\n",
    "def DFT(size):\n",
    "    matrix = np.zeros((size, size), dtype=complex)\n",
    "    for k in range(size):\n",
    "        for n in range(size):\n",
    "            matrix[k, n] = np.exp(-2j*np.pi*k*n/size)\n",
    "\n",
    "    return np.round(matrix, 10)\n",
    "\n",
    "# Create DCT matricies\n",
    "A = DFT(4)[2]\n",
    "np.outer(A.conj(), A.conj())"
   ]
  },
  {
   "cell_type": "code",
   "execution_count": 165,
   "metadata": {},
   "outputs": [
    {
     "data": {
      "text/plain": [
       "array([[ 1.-0.j,  1.-0.j,  1.-0.j,  1.-0.j],\n",
       "       [ 1.-0.j,  0.+1.j, -1.+0.j, -0.-1.j],\n",
       "       [ 1.-0.j, -1.+0.j,  1.-0.j, -1.+0.j],\n",
       "       [ 1.-0.j, -0.-1.j, -1.+0.j,  0.+1.j]])"
      ]
     },
     "execution_count": 165,
     "metadata": {},
     "output_type": "execute_result"
    }
   ],
   "source": [
    "DFT(4).conj()"
   ]
  },
  {
   "cell_type": "code",
   "execution_count": 166,
   "metadata": {},
   "outputs": [
    {
     "data": {
      "text/plain": [
       "array([[ 1.+0.j,  1.+0.j,  1.+0.j,  1.+0.j],\n",
       "       [ 0.+0.j,  0.+0.j,  0.+0.j,  0.+0.j],\n",
       "       [ 1.+0.j, -1.+0.j,  1.+0.j, -1.+0.j],\n",
       "       [ 1.+0.j,  0.-1.j, -1.+0.j,  0.+1.j]])"
      ]
     },
     "execution_count": 166,
     "metadata": {},
     "output_type": "execute_result"
    }
   ],
   "source": [
    "np.array([[1, 0, 0, 0], [0, 0, 0, 0], [0, 0, 1, 0], [0, 0, 0, 1]]) @ DFT(4).conj()\n"
   ]
  },
  {
   "cell_type": "code",
   "execution_count": 167,
   "metadata": {},
   "outputs": [
    {
     "data": {
      "text/plain": [
       "array([[ 2.        ,  1.84775907,  0.        , -0.76536686],\n",
       "       [ 1.        ,  0.5411961 , -1.        , -1.30656296],\n",
       "       [ 1.        , -0.5411961 , -1.        ,  1.30656296],\n",
       "       [ 2.        , -1.84775907,  0.        ,  0.76536686]])"
      ]
     },
     "execution_count": 167,
     "metadata": {},
     "output_type": "execute_result"
    }
   ],
   "source": [
    "np.array([[1, 1, 0, 0], [0, 1, 0, 0], [0, 0, 1, 0], [0, 0, 1, 1]]) @ DCT(4).T"
   ]
  },
  {
   "cell_type": "code",
   "execution_count": 168,
   "metadata": {},
   "outputs": [
    {
     "data": {
      "text/plain": [
       "array([[ 6.     ,  0.     , -2.     , -0.     ],\n",
       "       [-0.     ,  5.41421,  0.     , -3.41421],\n",
       "       [ 2.     ,  0.     ,  2.     ,  0.     ],\n",
       "       [-0.     ,  0.58579,  0.     ,  2.58579]])"
      ]
     },
     "execution_count": 168,
     "metadata": {},
     "output_type": "execute_result"
    }
   ],
   "source": [
    "np.round(DCT(4) @ np.array([[1, 1, 0, 0], [0, 1, 0, 0], [0, 0, 1, 0], [0, 0, 1, 1]]) @ DCT(4).T, 5)"
   ]
  },
  {
   "cell_type": "code",
   "execution_count": 169,
   "metadata": {},
   "outputs": [
    {
     "data": {
      "text/plain": [
       "5.414213562373096"
      ]
     },
     "execution_count": 169,
     "metadata": {},
     "output_type": "execute_result"
    }
   ],
   "source": [
    "q = np.cos(np.pi/8)*np.sqrt(2)\n",
    "r = np.cos(3*np.pi/8)*np.sqrt(2)\n",
    "2*(q**2 + r**2 + q*r)"
   ]
  },
  {
   "cell_type": "code",
   "execution_count": 170,
   "metadata": {},
   "outputs": [],
   "source": [
    "V = np.array([\n",
    "    [186, -18, 15, -9, 23, -9, -14, 19],\n",
    "    [21, -34, 26, -9, -11, 11, 14, 7],\n",
    "    [-10, -24, -2, 6, -18, 3, -20, -1],\n",
    "    [-8, -5, 14, -15, -8, -3, -3, 8],\n",
    "    [-3, 10, 8, 1, -11, 18, 18, 15],\n",
    "    [4, -2, -18, 8, 8, -4, 1, -7],\n",
    "    [9, 1, -3, 4, -1, -7, -1, -2],\n",
    "    [0, -8, -2, 2, 1, 4, -6, 0]\n",
    "])"
   ]
  },
  {
   "cell_type": "code",
   "execution_count": 171,
   "metadata": {},
   "outputs": [
    {
     "data": {
      "text/plain": [
       "array([[  9.,  17.,  25.,  33.,  41.,  49.,  57.,  65.],\n",
       "       [ 17.,  25.,  33.,  41.,  49.,  57.,  65.,  73.],\n",
       "       [ 25.,  33.,  41.,  49.,  57.,  65.,  73.,  81.],\n",
       "       [ 33.,  41.,  49.,  57.,  65.,  73.,  81.,  89.],\n",
       "       [ 41.,  49.,  57.,  65.,  73.,  81.,  89.,  97.],\n",
       "       [ 49.,  57.,  65.,  73.,  81.,  89.,  97., 105.],\n",
       "       [ 57.,  65.,  73.,  81.,  89.,  97., 105., 113.],\n",
       "       [ 65.,  73.,  81.,  89.,  97., 105., 113., 121.]])"
      ]
     },
     "execution_count": 171,
     "metadata": {},
     "output_type": "execute_result"
    }
   ],
   "source": [
    "def Q(size, quality):\n",
    "    matrix = np.zeros((size, size))\n",
    "    for k in range(size):\n",
    "        for l in range(size):\n",
    "            matrix[k, l] = 1 + (1 + k + l)*quality\n",
    "    return matrix\n",
    "\n",
    "Q(8, 8)"
   ]
  },
  {
   "cell_type": "code",
   "execution_count": 172,
   "metadata": {},
   "outputs": [
    {
     "data": {
      "text/plain": [
       "array([[21., -1.,  1., -0.,  1., -0., -0.,  0.],\n",
       "       [ 1., -1.,  1., -0., -0.,  0.,  0.,  0.],\n",
       "       [-0., -1., -0.,  0., -0.,  0., -0., -0.],\n",
       "       [-0., -0.,  0., -0., -0., -0., -0.,  0.],\n",
       "       [-0.,  0.,  0.,  0., -0.,  0.,  0.,  0.],\n",
       "       [ 0., -0., -0.,  0.,  0., -0.,  0., -0.],\n",
       "       [ 0.,  0., -0.,  0., -0., -0., -0., -0.],\n",
       "       [ 0., -0., -0.,  0.,  0.,  0., -0.,  0.]])"
      ]
     },
     "execution_count": 172,
     "metadata": {},
     "output_type": "execute_result"
    }
   ],
   "source": [
    "Y = np.round(V / Q(8, 8), 0)\n",
    "Y"
   ]
  },
  {
   "cell_type": "code",
   "execution_count": 173,
   "metadata": {},
   "outputs": [
    {
     "data": {
      "text/plain": [
       "array([21., -1.,  1., -0., -1.,  1., -0.,  1., -1., -0., -0., -0., -0.,\n",
       "       -0.,  1., -0., -0.,  0.,  0.,  0.,  0.,  0., -0.,  0., -0., -0.,\n",
       "        0., -0.,  0.,  0.,  0., -0.,  0., -0.,  0.,  0., -0., -0.,  0.,\n",
       "       -0., -0., -0.,  0., -0., -0.,  0.,  0.,  0., -0.,  0., -0., -0.,\n",
       "        0.,  0.,  0.,  0., -0.,  0.,  0., -0., -0., -0., -0.,  0.])"
      ]
     },
     "execution_count": 173,
     "metadata": {},
     "output_type": "execute_result"
    }
   ],
   "source": [
    "# Zig Zag reorder\n",
    "first = np.arange(0, 8*8).reshape(8, 8)\n",
    "def zig_zag_value(i, j, n):\n",
    "    # upper side of interval\n",
    "    if i + j >= n:\n",
    "        return n * n - 1 - zig_zag_value(n - 1 - i, n - 1 - j, n)\n",
    "    # lower side of interval\n",
    "    k = (i + j) * (i + j + 1) // 2\n",
    "    return k + i if (i + j) & 1 else k + j\n",
    "\n",
    "\n",
    "def zigzag(y):\n",
    "    size = y.shape[0]\n",
    "    z = np.zeros(size*size)\n",
    "    for k in range(size):\n",
    "        for n in range(size):\n",
    "            z[zig_zag_value(k, n, 8)] = y[k, n]\n",
    "    return z\n",
    "\n",
    "z = zigzag(Y)\n",
    "z"
   ]
  },
  {
   "cell_type": "code",
   "execution_count": 176,
   "metadata": {},
   "outputs": [
    {
     "data": {
      "text/plain": [
       "16"
      ]
     },
     "execution_count": 176,
     "metadata": {},
     "output_type": "execute_result"
    }
   ],
   "source": [
    "# The vector generated in (c) is output according to the following rules:\n",
    "# 1. each number between −128 and 127 is output as one byte;\n",
    "# 2. each sequence of one or more zeros, a run, is output as two bytes (one equal to 0 and the other containing the number of zeros in the run)\n",
    "# 3. each number smaller than −128 or larger than 127 is output as three bytes (one equal to −128, and two containing the actual number).\n",
    "\n",
    "def calculate_storage(z):\n",
    "    storage = 0\n",
    "    i = 0\n",
    "    while (i < len(z)):\n",
    "        stp = storage\n",
    "        # print(int(z[i]) == 0)\n",
    "        if (z[i] >= 127 or z[i] <= -128):\n",
    "            storage += 3\n",
    "        elif (z[i] < 127 and z[i] > -128 and int(z[i]) != 0):\n",
    "            storage += 1\n",
    "        elif (int(z[i]) == 0):\n",
    "            storage += 2\n",
    "            while (i + 1 < len(z) and int(z[i + 1]) == 0):\n",
    "                i += 1\n",
    "        i += 1\n",
    "        # print(storage - stp)\n",
    "    return storage\n",
    "\n",
    "calculate_storage(z)"
   ]
  }
 ],
 "metadata": {
  "kernelspec": {
   "display_name": "Python 3",
   "language": "python",
   "name": "python3"
  },
  "language_info": {
   "codemirror_mode": {
    "name": "ipython",
    "version": 3
   },
   "file_extension": ".py",
   "mimetype": "text/x-python",
   "name": "python",
   "nbconvert_exporter": "python",
   "pygments_lexer": "ipython3",
   "version": "3.10.11"
  }
 },
 "nbformat": 4,
 "nbformat_minor": 2
}
